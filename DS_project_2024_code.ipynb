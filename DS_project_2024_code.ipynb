{
 "cells": [
  {
   "cell_type": "markdown",
   "id": "35f5c3d8",
   "metadata": {},
   "source": [
    " 1 Хотим взять информацию из группу Я люблю кино (на фото), но возможно поменяем в последствии на аналогичную (на данный момент берём именно её)  \n",
    " 2 На данный момент хотим проанализировать количество лайков, просмотров и комментариев в зависимости от жанра фильма. Возможно создадим какой-нибудь индекс (например, лайки делить на просмотры), но пока сложно сказать точно  \n",
    " 3 Целевая: количество лайков; Независимая: год выпуска, жанр, список главных ролей;  \n",
    "   \n",
    " Гипотеза: больше лайков, собирают посты про фильмы жанра комедии, возрастное ограничение"
   ]
  },
  {
   "cell_type": "code",
   "execution_count": 388,
   "id": "d36466a8",
   "metadata": {},
   "outputs": [
    {
     "name": "stdout",
     "output_type": "stream",
     "text": [
      "Введите свой номер телефона для аккаунта ВКонтакте БЕЗ плюса в начале в формате 749512312312\n",
      "79687030122\n",
      "Введите свой пароль к аккаунту ВКонтакте\n",
      "                 (не волнуйтесь, мы его никуда не записываем - можете убедиться по ниже написанному коду)\n",
      "                 Sha1tanMa1dan\n",
      "Вам нужно будет ввести код авторизации, который вам прислали во ВКонтакте\n"
     ]
    },
    {
     "ename": "KeyboardInterrupt",
     "evalue": "Interrupted by user",
     "output_type": "error",
     "traceback": [
      "\u001b[1;31m---------------------------------------------------------------------------\u001b[0m",
      "\u001b[1;31mKeyboardInterrupt\u001b[0m                         Traceback (most recent call last)",
      "Cell \u001b[1;32mIn[388], line 11\u001b[0m\n\u001b[0;32m      9\u001b[0m \u001b[38;5;28mprint\u001b[39m(\u001b[38;5;124m'\u001b[39m\u001b[38;5;124mВам нужно будет ввести код авторизации, который вам прислали во ВКонтакте\u001b[39m\u001b[38;5;124m'\u001b[39m)\n\u001b[0;32m     10\u001b[0m vk_session \u001b[38;5;241m=\u001b[39m vk_api\u001b[38;5;241m.\u001b[39mVkApi(login, password, auth_handler\u001b[38;5;241m=\u001b[39mauth_handler, app_id\u001b[38;5;241m=\u001b[39m\u001b[38;5;241m6287487\u001b[39m, client_secret\u001b[38;5;241m=\u001b[39m\u001b[38;5;124m\"\u001b[39m\u001b[38;5;124mQbYic1K3lEV5kTGiqlq2\u001b[39m\u001b[38;5;124m\"\u001b[39m)\n\u001b[1;32m---> 11\u001b[0m \u001b[43mvk_session\u001b[49m\u001b[38;5;241;43m.\u001b[39;49m\u001b[43mauth\u001b[49m\u001b[43m(\u001b[49m\u001b[43m)\u001b[49m\n\u001b[0;32m     12\u001b[0m vk \u001b[38;5;241m=\u001b[39m vk_session\u001b[38;5;241m.\u001b[39mget_api()\n",
      "File \u001b[1;32m~\\AppData\\Local\\Programs\\Python\\Python39\\lib\\site-packages\\vk_api\\vk_api.py:187\u001b[0m, in \u001b[0;36mVkApi.auth\u001b[1;34m(self, reauth, token_only)\u001b[0m\n\u001b[0;32m    185\u001b[0m     \u001b[38;5;28mself\u001b[39m\u001b[38;5;241m.\u001b[39m_auth_token(reauth\u001b[38;5;241m=\u001b[39mreauth)\n\u001b[0;32m    186\u001b[0m \u001b[38;5;28;01melse\u001b[39;00m:\n\u001b[1;32m--> 187\u001b[0m     \u001b[38;5;28;43mself\u001b[39;49m\u001b[38;5;241;43m.\u001b[39;49m\u001b[43m_auth_cookies\u001b[49m\u001b[43m(\u001b[49m\u001b[43mreauth\u001b[49m\u001b[38;5;241;43m=\u001b[39;49m\u001b[43mreauth\u001b[49m\u001b[43m)\u001b[49m\n",
      "File \u001b[1;32m~\\AppData\\Local\\Programs\\Python\\Python39\\lib\\site-packages\\vk_api\\vk_api.py:207\u001b[0m, in \u001b[0;36mVkApi._auth_cookies\u001b[1;34m(self, reauth)\u001b[0m\n\u001b[0;32m    200\u001b[0m \u001b[38;5;28;01mif\u001b[39;00m \u001b[38;5;129;01mnot\u001b[39;00m \u001b[38;5;28mself\u001b[39m\u001b[38;5;241m.\u001b[39mcheck_sid():\n\u001b[0;32m    201\u001b[0m     \u001b[38;5;28mself\u001b[39m\u001b[38;5;241m.\u001b[39mlogger\u001b[38;5;241m.\u001b[39minfo(\n\u001b[0;32m    202\u001b[0m         \u001b[38;5;124m'\u001b[39m\u001b[38;5;124mremixsid from config is not valid: \u001b[39m\u001b[38;5;132;01m{}\u001b[39;00m\u001b[38;5;124m'\u001b[39m\u001b[38;5;241m.\u001b[39mformat(\n\u001b[0;32m    203\u001b[0m             \u001b[38;5;28mself\u001b[39m\u001b[38;5;241m.\u001b[39m_sid\n\u001b[0;32m    204\u001b[0m         )\n\u001b[0;32m    205\u001b[0m     )\n\u001b[1;32m--> 207\u001b[0m     \u001b[38;5;28;43mself\u001b[39;49m\u001b[38;5;241;43m.\u001b[39;49m\u001b[43m_vk_login\u001b[49m\u001b[43m(\u001b[49m\u001b[43m)\u001b[49m\n\u001b[0;32m    208\u001b[0m \u001b[38;5;28;01melse\u001b[39;00m:\n\u001b[0;32m    209\u001b[0m     \u001b[38;5;28mself\u001b[39m\u001b[38;5;241m.\u001b[39m_pass_security_check()\n",
      "File \u001b[1;32m~\\AppData\\Local\\Programs\\Python\\Python39\\lib\\site-packages\\vk_api\\vk_api.py:330\u001b[0m, in \u001b[0;36mVkApi._vk_login\u001b[1;34m(self, captcha_sid, captcha_key)\u001b[0m\n\u001b[0;32m    326\u001b[0m     \u001b[38;5;28mself\u001b[39m\u001b[38;5;241m.\u001b[39mlogger\u001b[38;5;241m.\u001b[39minfo(\u001b[38;5;124m'\u001b[39m\u001b[38;5;124m2FA is required\u001b[39m\u001b[38;5;124m'\u001b[39m)\n\u001b[0;32m    328\u001b[0m     response \u001b[38;5;241m=\u001b[39m \u001b[38;5;28mself\u001b[39m\u001b[38;5;241m.\u001b[39mhttp\u001b[38;5;241m.\u001b[39mget(\u001b[38;5;124m'\u001b[39m\u001b[38;5;124mhttps://vk.com/login?act=authcheck\u001b[39m\u001b[38;5;124m'\u001b[39m)\n\u001b[1;32m--> 330\u001b[0m     \u001b[38;5;28;43mself\u001b[39;49m\u001b[38;5;241;43m.\u001b[39;49m\u001b[43m_pass_twofactor\u001b[49m\u001b[43m(\u001b[49m\u001b[43mresponse\u001b[49m\u001b[43m)\u001b[49m\n\u001b[0;32m    332\u001b[0m \u001b[38;5;28;01mif\u001b[39;00m \u001b[38;5;28mself\u001b[39m\u001b[38;5;241m.\u001b[39m_sid:\n\u001b[0;32m    333\u001b[0m     \u001b[38;5;28mself\u001b[39m\u001b[38;5;241m.\u001b[39mlogger\u001b[38;5;241m.\u001b[39minfo(\u001b[38;5;124m'\u001b[39m\u001b[38;5;124mGot remixsid\u001b[39m\u001b[38;5;124m'\u001b[39m)\n",
      "File \u001b[1;32m~\\AppData\\Local\\Programs\\Python\\Python39\\lib\\site-packages\\vk_api\\vk_api.py:356\u001b[0m, in \u001b[0;36mVkApi._pass_twofactor\u001b[1;34m(self, auth_response)\u001b[0m\n\u001b[0;32m    353\u001b[0m \u001b[38;5;28;01mif\u001b[39;00m \u001b[38;5;129;01mnot\u001b[39;00m auth_hash:\n\u001b[0;32m    354\u001b[0m     \u001b[38;5;28;01mraise\u001b[39;00m TwoFactorError(get_unknown_exc_str(\u001b[38;5;124m'\u001b[39m\u001b[38;5;124m2FA; no hash\u001b[39m\u001b[38;5;124m'\u001b[39m))\n\u001b[1;32m--> 356\u001b[0m code, remember_device \u001b[38;5;241m=\u001b[39m \u001b[38;5;28;43mself\u001b[39;49m\u001b[38;5;241;43m.\u001b[39;49m\u001b[43merror_handlers\u001b[49m\u001b[43m[\u001b[49m\u001b[43mTWOFACTOR_CODE\u001b[49m\u001b[43m]\u001b[49m\u001b[43m(\u001b[49m\u001b[43m)\u001b[49m\n\u001b[0;32m    358\u001b[0m values \u001b[38;5;241m=\u001b[39m {\n\u001b[0;32m    359\u001b[0m     \u001b[38;5;124m'\u001b[39m\u001b[38;5;124mal\u001b[39m\u001b[38;5;124m'\u001b[39m: \u001b[38;5;124m'\u001b[39m\u001b[38;5;124m1\u001b[39m\u001b[38;5;124m'\u001b[39m,\n\u001b[0;32m    360\u001b[0m     \u001b[38;5;124m'\u001b[39m\u001b[38;5;124mcode\u001b[39m\u001b[38;5;124m'\u001b[39m: code,\n\u001b[0;32m    361\u001b[0m     \u001b[38;5;124m'\u001b[39m\u001b[38;5;124mhash\u001b[39m\u001b[38;5;124m'\u001b[39m: auth_hash,\n\u001b[0;32m    362\u001b[0m     \u001b[38;5;124m'\u001b[39m\u001b[38;5;124mremember\u001b[39m\u001b[38;5;124m'\u001b[39m: \u001b[38;5;28mint\u001b[39m(remember_device),\n\u001b[0;32m    363\u001b[0m }\n\u001b[0;32m    365\u001b[0m response \u001b[38;5;241m=\u001b[39m \u001b[38;5;28mself\u001b[39m\u001b[38;5;241m.\u001b[39mhttp\u001b[38;5;241m.\u001b[39mpost(\n\u001b[0;32m    366\u001b[0m     \u001b[38;5;124m'\u001b[39m\u001b[38;5;124mhttps://vk.com/al_login.php?act=a_authcheck_code\u001b[39m\u001b[38;5;124m'\u001b[39m,\n\u001b[0;32m    367\u001b[0m     values\n\u001b[0;32m    368\u001b[0m )\n",
      "Cell \u001b[1;32mIn[388], line 3\u001b[0m, in \u001b[0;36mauth_handler\u001b[1;34m()\u001b[0m\n\u001b[0;32m      2\u001b[0m \u001b[38;5;28;01mdef\u001b[39;00m \u001b[38;5;21mauth_handler\u001b[39m():\n\u001b[1;32m----> 3\u001b[0m     key \u001b[38;5;241m=\u001b[39m \u001b[38;5;28;43minput\u001b[39;49m\u001b[43m(\u001b[49m\u001b[38;5;124;43m\"\u001b[39;49m\u001b[38;5;124;43mAuthentication code: \u001b[39;49m\u001b[38;5;124;43m\"\u001b[39;49m\u001b[43m)\u001b[49m\n\u001b[0;32m      4\u001b[0m     \u001b[38;5;28;01mreturn\u001b[39;00m key, \u001b[38;5;28;01mFalse\u001b[39;00m\n",
      "File \u001b[1;32m~\\AppData\\Local\\Programs\\Python\\Python39\\lib\\site-packages\\ipykernel\\kernelbase.py:1191\u001b[0m, in \u001b[0;36mKernel.raw_input\u001b[1;34m(self, prompt)\u001b[0m\n\u001b[0;32m   1189\u001b[0m     msg \u001b[38;5;241m=\u001b[39m \u001b[38;5;124m\"\u001b[39m\u001b[38;5;124mraw_input was called, but this frontend does not support input requests.\u001b[39m\u001b[38;5;124m\"\u001b[39m\n\u001b[0;32m   1190\u001b[0m     \u001b[38;5;28;01mraise\u001b[39;00m StdinNotImplementedError(msg)\n\u001b[1;32m-> 1191\u001b[0m \u001b[38;5;28;01mreturn\u001b[39;00m \u001b[38;5;28;43mself\u001b[39;49m\u001b[38;5;241;43m.\u001b[39;49m\u001b[43m_input_request\u001b[49m\u001b[43m(\u001b[49m\n\u001b[0;32m   1192\u001b[0m \u001b[43m    \u001b[49m\u001b[38;5;28;43mstr\u001b[39;49m\u001b[43m(\u001b[49m\u001b[43mprompt\u001b[49m\u001b[43m)\u001b[49m\u001b[43m,\u001b[49m\n\u001b[0;32m   1193\u001b[0m \u001b[43m    \u001b[49m\u001b[38;5;28;43mself\u001b[39;49m\u001b[38;5;241;43m.\u001b[39;49m\u001b[43m_parent_ident\u001b[49m\u001b[43m[\u001b[49m\u001b[38;5;124;43m\"\u001b[39;49m\u001b[38;5;124;43mshell\u001b[39;49m\u001b[38;5;124;43m\"\u001b[39;49m\u001b[43m]\u001b[49m\u001b[43m,\u001b[49m\n\u001b[0;32m   1194\u001b[0m \u001b[43m    \u001b[49m\u001b[38;5;28;43mself\u001b[39;49m\u001b[38;5;241;43m.\u001b[39;49m\u001b[43mget_parent\u001b[49m\u001b[43m(\u001b[49m\u001b[38;5;124;43m\"\u001b[39;49m\u001b[38;5;124;43mshell\u001b[39;49m\u001b[38;5;124;43m\"\u001b[39;49m\u001b[43m)\u001b[49m\u001b[43m,\u001b[49m\n\u001b[0;32m   1195\u001b[0m \u001b[43m    \u001b[49m\u001b[43mpassword\u001b[49m\u001b[38;5;241;43m=\u001b[39;49m\u001b[38;5;28;43;01mFalse\u001b[39;49;00m\u001b[43m,\u001b[49m\n\u001b[0;32m   1196\u001b[0m \u001b[43m\u001b[49m\u001b[43m)\u001b[49m\n",
      "File \u001b[1;32m~\\AppData\\Local\\Programs\\Python\\Python39\\lib\\site-packages\\ipykernel\\kernelbase.py:1234\u001b[0m, in \u001b[0;36mKernel._input_request\u001b[1;34m(self, prompt, ident, parent, password)\u001b[0m\n\u001b[0;32m   1231\u001b[0m \u001b[38;5;28;01mexcept\u001b[39;00m \u001b[38;5;167;01mKeyboardInterrupt\u001b[39;00m:\n\u001b[0;32m   1232\u001b[0m     \u001b[38;5;66;03m# re-raise KeyboardInterrupt, to truncate traceback\u001b[39;00m\n\u001b[0;32m   1233\u001b[0m     msg \u001b[38;5;241m=\u001b[39m \u001b[38;5;124m\"\u001b[39m\u001b[38;5;124mInterrupted by user\u001b[39m\u001b[38;5;124m\"\u001b[39m\n\u001b[1;32m-> 1234\u001b[0m     \u001b[38;5;28;01mraise\u001b[39;00m \u001b[38;5;167;01mKeyboardInterrupt\u001b[39;00m(msg) \u001b[38;5;28;01mfrom\u001b[39;00m \u001b[38;5;28mNone\u001b[39m\n\u001b[0;32m   1235\u001b[0m \u001b[38;5;28;01mexcept\u001b[39;00m \u001b[38;5;167;01mException\u001b[39;00m:\n\u001b[0;32m   1236\u001b[0m     \u001b[38;5;28mself\u001b[39m\u001b[38;5;241m.\u001b[39mlog\u001b[38;5;241m.\u001b[39mwarning(\u001b[38;5;124m\"\u001b[39m\u001b[38;5;124mInvalid Message:\u001b[39m\u001b[38;5;124m\"\u001b[39m, exc_info\u001b[38;5;241m=\u001b[39m\u001b[38;5;28;01mTrue\u001b[39;00m)\n",
      "\u001b[1;31mKeyboardInterrupt\u001b[0m: Interrupted by user"
     ]
    }
   ],
   "source": [
    "import vk_api\n",
    "def auth_handler():\n",
    "    key = input(\"Authentication code: \")\n",
    "    return key, False\n",
    "login = input('Введите свой номер телефона для аккаунта ВКонтакте БЕЗ плюса в начале в формате 749512312312\\n')\n",
    "password = input(\"\"\"Введите свой пароль к аккаунту ВКонтакте\n",
    "                 (не волнуйтесь, мы его никуда не записываем - можете убедиться по ниже написанному коду)\n",
    "                 \"\"\")\n",
    "print('Вам нужно будет ввести код авторизации, который вам прислали во ВКонтакте')\n",
    "vk_session = vk_api.VkApi(login, password, auth_handler=auth_handler, app_id=6287487, client_secret=\"QbYic1K3lEV5kTGiqlq2\")\n",
    "vk_session.auth()\n",
    "vk = vk_session.get_api()"
   ]
  },
  {
   "cell_type": "code",
   "execution_count": 232,
   "id": "1f1c4033",
   "metadata": {},
   "outputs": [],
   "source": [
    "tools = vk_api.VkTools(vk)\n",
    "wall_id = -113071474\n",
    "wall = tools.get_all('wall.get', 4, {'owner_id': wall_id}, limit = 15000)\n"
   ]
  },
  {
   "cell_type": "code",
   "execution_count": 380,
   "id": "6b5fcb84",
   "metadata": {},
   "outputs": [
    {
     "name": "stdout",
     "output_type": "stream",
     "text": [
      "1682\n"
     ]
    }
   ],
   "source": [
    "import re\n",
    "from datetime import datetime\n",
    "\n",
    "posts = wall['items']\n",
    "posts = [post for post in posts if 'is_pinned' not in post.keys()]\n",
    "\n",
    "posts = [post for post in posts if post['marked_as_ads'] == 0]\n",
    "\n",
    "posts = [post for post in posts if post['owner_id'] == -113071474]\n",
    "\n",
    "posts = [post for post in posts if len(re.findall('\\([0-9]+\\)', post['text'])) != 0]\n",
    "\n",
    "not_posts = [post for post in posts if 'х:' not in post['text']]\n",
    "not_posts = [post for post in not_posts if 'x:' not in post['text']]\n",
    "\n",
    "posts = [\n",
    "    post for post in posts if (\n",
    "        'х:\\n' in post['text'] or 'x:\\n' in post['text'] \n",
    "            or \n",
    "        'х: \\n' in post['text'] or 'x: \\n' in post['text']\n",
    "    )\n",
    "]\n",
    "print(len(posts))"
   ]
  },
  {
   "cell_type": "code",
   "execution_count": 383,
   "id": "af683e7b",
   "metadata": {},
   "outputs": [
    {
     "name": "stdout",
     "output_type": "stream",
     "text": [
      "1682\n"
     ]
    }
   ],
   "source": [
    "actors = [re.split('х:\\n|x:\\n|х: \\n|x: \\n', post['text']) for post in posts]\n",
    "actors = [actor[1].replace('\\n', '  ').replace('P.S.', ' ') for actor in actors]\n",
    "actors = [actor.replace('– ', '- ').replace('— ', '- ').split('- ') for actor in actors]\n",
    "for i in range(len(actors)):\n",
    "    if len(actors[i]) == 1:\n",
    "        actors[i] = actors[i][0].split('  ')\n",
    "        if len(actors[i]) <= 1:\n",
    "            actors[i] = ''\n",
    "            continue\n",
    "    \n",
    "    actors[i] = [j.replace('  ', '') for j in actors[i] if j != '' and len(j) < 35 and '🏆' not in j and 'vk.' not in j]\n",
    "    if actors[i] == []:\n",
    "        actors[i] == ''\n",
    "            \n",
    "print(len(actors))"
   ]
  },
  {
   "cell_type": "code",
   "execution_count": 365,
   "id": "643b0f22",
   "metadata": {},
   "outputs": [],
   "source": [
    "for i in range(len(actors)):\n",
    "    for j in range(len(actors[i])):\n",
    "        if 'мoжeм повторит' in actors[i][j]:\n",
    "            print(actors[i])\n",
    "            print(actors[i][-1].lower())\n",
    "            print(actors[i][-1].lower() == actors[i][-1])"
   ]
  },
  {
   "cell_type": "code",
   "execution_count": 338,
   "id": "5279cb73",
   "metadata": {},
   "outputs": [
    {
     "data": {
      "text/plain": [
       "dict_keys(['inner_type', 'ads_easy_promote', 'is_pinned', 'comments', 'marked_as_ads', 'activity', 'compact_attachments_before_cut', 'hash', 'type', 'donut_miniapp_url', 'attachments', 'attachments_meta', 'date', 'from_id', 'id', 'is_favorite', 'likes', 'owner_id', 'post_source', 'post_type', 'reposts', 'text', 'views'])"
      ]
     },
     "execution_count": 338,
     "metadata": {},
     "output_type": "execute_result"
    }
   ],
   "source": [
    "wall['items'][0].keys()"
   ]
  },
  {
   "cell_type": "code",
   "execution_count": 128,
   "id": "23a9635b",
   "metadata": {},
   "outputs": [
    {
     "data": {
      "text/plain": [
       "-113071474"
      ]
     },
     "execution_count": 128,
     "metadata": {},
     "output_type": "execute_result"
    }
   ],
   "source": [
    "wall['items'][0]['owner_id']"
   ]
  },
  {
   "cell_type": "code",
   "execution_count": null,
   "id": "56c1c264",
   "metadata": {},
   "outputs": [],
   "source": []
  },
  {
   "cell_type": "markdown",
   "id": "2205d453",
   "metadata": {},
   "source": []
  },
  {
   "cell_type": "code",
   "execution_count": 266,
   "id": "03126415",
   "metadata": {},
   "outputs": [],
   "source": [
    "import pandas as pd\n",
    "df = pd.DataFrame()"
   ]
  },
  {
   "cell_type": "code",
   "execution_count": null,
   "id": "2d40353e",
   "metadata": {},
   "outputs": [],
   "source": [
    "df.index = [post['id'] for post in posts]\n",
    "df['date'] = [post['date'] for post in posts]\n",
    "df['date'] = pd.to_datetime(df['date'], unit='s')\n",
    "df['date'] = df['date'].dt.date\n",
    "col = ['likes', 'reposts', 'comments', 'views']\n",
    "for c in col:\n",
    "  df[c] = [post[c]['count'] for post in posts]\n",
    "df['attachments'] = [len(post['attachments']) for post in posts]\n",
    "df['text'] = [post['text'] for post in posts]\n",
    "df = df.loc[df['text'] != '⚡⚡⚡']\n",
    "df = df.loc[df['text'] != '']\n",
    "df=df.dropna()\n",
    "df = df.drop(index=45432794)\n",
    "df = df.drop(index=44731519)\n",
    "df['likes'].median(), df['likes'].mean()\n"
   ]
  },
  {
   "cell_type": "code",
   "execution_count": 384,
   "id": "6eefcc3b",
   "metadata": {},
   "outputs": [],
   "source": [
    "import pandas as pd\n",
    "df = pd.DataFrame()\n",
    "\n",
    "df.index = list(map(lambda post: post.get('id', None), posts))\n",
    "df['photos'] = list(map(lambda post: len(post['attachments']), posts))\n",
    "                         \n",
    "df['likes'] = list(map(lambda post: post.get('likes', {'count': None}).get('count', None), posts))\n",
    "df['reposts'] = list(map(lambda post: post.get('reposts', {'count': None}).get('count', None), posts))\n",
    "df['comments'] = list(map(lambda post: post.get('comments', {'count': None}).get('count', None), posts))\n",
    "df['views'] = list(map(lambda post: post.get('views', {'count': None}).get('count', None), posts))\n",
    "df['text'] = list(map(lambda post: post.get('text', None), posts))\n",
    "df['actors'] = actors\n",
    "\n",
    "df = df.loc[df['actors'] != '']"
   ]
  },
  {
   "cell_type": "code",
   "execution_count": 385,
   "id": "d2d5cc65",
   "metadata": {},
   "outputs": [
    {
     "data": {
      "text/html": [
       "<div>\n",
       "<style scoped>\n",
       "    .dataframe tbody tr th:only-of-type {\n",
       "        vertical-align: middle;\n",
       "    }\n",
       "\n",
       "    .dataframe tbody tr th {\n",
       "        vertical-align: top;\n",
       "    }\n",
       "\n",
       "    .dataframe thead th {\n",
       "        text-align: right;\n",
       "    }\n",
       "</style>\n",
       "<table border=\"1\" class=\"dataframe\">\n",
       "  <thead>\n",
       "    <tr style=\"text-align: right;\">\n",
       "      <th></th>\n",
       "      <th>photos</th>\n",
       "      <th>likes</th>\n",
       "      <th>reposts</th>\n",
       "      <th>comments</th>\n",
       "      <th>views</th>\n",
       "      <th>text</th>\n",
       "      <th>actors</th>\n",
       "    </tr>\n",
       "  </thead>\n",
       "  <tbody>\n",
       "    <tr>\n",
       "      <th>4654254</th>\n",
       "      <td>4</td>\n",
       "      <td>185</td>\n",
       "      <td>447</td>\n",
       "      <td>5</td>\n",
       "      <td>63086</td>\n",
       "      <td>Гoрод свoдит с умa, нo пoкинyть eго невoзмoжнo...</td>\n",
       "      <td>[Флoрeнс Пью, Гарpи Стайлc, Kpиc Пaйн, Oливия ...</td>\n",
       "    </tr>\n",
       "    <tr>\n",
       "      <th>4654217</th>\n",
       "      <td>4</td>\n",
       "      <td>255</td>\n",
       "      <td>375</td>\n",
       "      <td>9</td>\n",
       "      <td>65356</td>\n",
       "      <td>Тyт вeликoлeпный aктepcкий соcтaв Бpэд Питт, C...</td>\n",
       "      <td>[Caндpa Бyллoк, Чeннинг Taтум, Дэниэл Pэдклифф...</td>\n",
       "    </tr>\n",
       "    <tr>\n",
       "      <th>4654151</th>\n",
       "      <td>4</td>\n",
       "      <td>215</td>\n",
       "      <td>150</td>\n",
       "      <td>13</td>\n",
       "      <td>75235</td>\n",
       "      <td>Гоcподи вcевышний 😱 Kaк жe кpутой фильм. Xищни...</td>\n",
       "      <td>[Эмбeр Mидфандер , Дaкoта Биверc , Дэйн ДиЛьeг...</td>\n",
       "    </tr>\n",
       "    <tr>\n",
       "      <th>4654127</th>\n",
       "      <td>4</td>\n",
       "      <td>233</td>\n",
       "      <td>349</td>\n",
       "      <td>11</td>\n",
       "      <td>76474</td>\n",
       "      <td>Oфигенный мyльт 👍 Пo жecтoкоcти - кaк в мульта...</td>\n",
       "      <td>[Мaйя Эpскин, Джopдж Тaкэй, Maси Oкa, Кэри-Хиp...</td>\n",
       "    </tr>\n",
       "    <tr>\n",
       "      <th>4654065</th>\n",
       "      <td>4</td>\n",
       "      <td>928</td>\n",
       "      <td>934</td>\n",
       "      <td>27</td>\n",
       "      <td>147536</td>\n",
       "      <td>Такоe кинo yже нe cнимают! 718 минyт нeопиcуeм...</td>\n",
       "      <td>[Элaйджa Byд , Иэн Mаккeллен , Шoн Эcтин , Bиг...</td>\n",
       "    </tr>\n",
       "    <tr>\n",
       "      <th>...</th>\n",
       "      <td>...</td>\n",
       "      <td>...</td>\n",
       "      <td>...</td>\n",
       "      <td>...</td>\n",
       "      <td>...</td>\n",
       "      <td>...</td>\n",
       "      <td>...</td>\n",
       "    </tr>\n",
       "    <tr>\n",
       "      <th>4439598</th>\n",
       "      <td>4</td>\n",
       "      <td>1587</td>\n",
       "      <td>3766</td>\n",
       "      <td>182</td>\n",
       "      <td>689506</td>\n",
       "      <td>Юнaя Екa|терина lI пытaeтся oбyстpoить Росcию....</td>\n",
       "      <td>[Эль Фaннинг]</td>\n",
       "    </tr>\n",
       "    <tr>\n",
       "      <th>4438234</th>\n",
       "      <td>4</td>\n",
       "      <td>2273</td>\n",
       "      <td>1991</td>\n",
       "      <td>53</td>\n",
       "      <td>558443</td>\n",
       "      <td>Вoт тaкие фильмы нaдo cмoтpеть, чтoбы люди про...</td>\n",
       "      <td>[Хаpриcoн Фоpд, Oмаp Cи, Kаpa Ги, Дэн Cтивeнc]</td>\n",
       "    </tr>\n",
       "    <tr>\n",
       "      <th>4438078</th>\n",
       "      <td>4</td>\n",
       "      <td>4673</td>\n",
       "      <td>11177</td>\n",
       "      <td>71</td>\n",
       "      <td>1183127</td>\n",
       "      <td>Гoрoд cводит с умa, нo пoкинyть eгo нeвoзможнo...</td>\n",
       "      <td>[Флорeнс Пью, Кpис Пaйн, Oливия Уaйлд, Джeммa ...</td>\n",
       "    </tr>\n",
       "    <tr>\n",
       "      <th>4435205</th>\n",
       "      <td>4</td>\n",
       "      <td>1616</td>\n",
       "      <td>2489</td>\n",
       "      <td>40</td>\n",
       "      <td>503924</td>\n",
       "      <td>Пьянчyга и любитeль пyтaн, поcлe смеpти oтцa и...</td>\n",
       "      <td>[Tимоти Шaламe, Джoэл Эдгеpтoн, Poбеpт Пaттинc...</td>\n",
       "    </tr>\n",
       "    <tr>\n",
       "      <th>4411294</th>\n",
       "      <td>4</td>\n",
       "      <td>2100</td>\n",
       "      <td>3095</td>\n",
       "      <td>28</td>\n",
       "      <td>562689</td>\n",
       "      <td>Шикаpтный фильм пo игрe ❗\\n\\nАнчартeд: Hа кaрт...</td>\n",
       "      <td>[Tом Xолланд, Мaрк Уoлбepг, Антoнио Бaндepаc]</td>\n",
       "    </tr>\n",
       "  </tbody>\n",
       "</table>\n",
       "<p>1682 rows × 7 columns</p>\n",
       "</div>"
      ],
      "text/plain": [
       "         photos  likes  reposts  comments    views  \\\n",
       "4654254       4    185      447         5    63086   \n",
       "4654217       4    255      375         9    65356   \n",
       "4654151       4    215      150        13    75235   \n",
       "4654127       4    233      349        11    76474   \n",
       "4654065       4    928      934        27   147536   \n",
       "...         ...    ...      ...       ...      ...   \n",
       "4439598       4   1587     3766       182   689506   \n",
       "4438234       4   2273     1991        53   558443   \n",
       "4438078       4   4673    11177        71  1183127   \n",
       "4435205       4   1616     2489        40   503924   \n",
       "4411294       4   2100     3095        28   562689   \n",
       "\n",
       "                                                      text  \\\n",
       "4654254  Гoрод свoдит с умa, нo пoкинyть eго невoзмoжнo...   \n",
       "4654217  Тyт вeликoлeпный aктepcкий соcтaв Бpэд Питт, C...   \n",
       "4654151  Гоcподи вcевышний 😱 Kaк жe кpутой фильм. Xищни...   \n",
       "4654127  Oфигенный мyльт 👍 Пo жecтoкоcти - кaк в мульта...   \n",
       "4654065  Такоe кинo yже нe cнимают! 718 минyт нeопиcуeм...   \n",
       "...                                                    ...   \n",
       "4439598  Юнaя Екa|терина lI пытaeтся oбyстpoить Росcию....   \n",
       "4438234  Вoт тaкие фильмы нaдo cмoтpеть, чтoбы люди про...   \n",
       "4438078  Гoрoд cводит с умa, нo пoкинyть eгo нeвoзможнo...   \n",
       "4435205  Пьянчyга и любитeль пyтaн, поcлe смеpти oтцa и...   \n",
       "4411294  Шикаpтный фильм пo игрe ❗\\n\\nАнчартeд: Hа кaрт...   \n",
       "\n",
       "                                                    actors  \n",
       "4654254  [Флoрeнс Пью, Гарpи Стайлc, Kpиc Пaйн, Oливия ...  \n",
       "4654217  [Caндpa Бyллoк, Чeннинг Taтум, Дэниэл Pэдклифф...  \n",
       "4654151  [Эмбeр Mидфандер , Дaкoта Биверc , Дэйн ДиЛьeг...  \n",
       "4654127  [Мaйя Эpскин, Джopдж Тaкэй, Maси Oкa, Кэри-Хиp...  \n",
       "4654065  [Элaйджa Byд , Иэн Mаккeллен , Шoн Эcтин , Bиг...  \n",
       "...                                                    ...  \n",
       "4439598                                      [Эль Фaннинг]  \n",
       "4438234     [Хаpриcoн Фоpд, Oмаp Cи, Kаpa Ги, Дэн Cтивeнc]  \n",
       "4438078  [Флорeнс Пью, Кpис Пaйн, Oливия Уaйлд, Джeммa ...  \n",
       "4435205  [Tимоти Шaламe, Джoэл Эдгеpтoн, Poбеpт Пaттинc...  \n",
       "4411294      [Tом Xолланд, Мaрк Уoлбepг, Антoнио Бaндepаc]  \n",
       "\n",
       "[1682 rows x 7 columns]"
      ]
     },
     "execution_count": 385,
     "metadata": {},
     "output_type": "execute_result"
    }
   ],
   "source": [
    "df"
   ]
  },
  {
   "cell_type": "code",
   "execution_count": null,
   "id": "6a5fd0a4",
   "metadata": {},
   "outputs": [],
   "source": []
  }
 ],
 "metadata": {
  "kernelspec": {
   "display_name": "Python 3 (ipykernel)",
   "language": "python",
   "name": "python3"
  },
  "language_info": {
   "codemirror_mode": {
    "name": "ipython",
    "version": 3
   },
   "file_extension": ".py",
   "mimetype": "text/x-python",
   "name": "python",
   "nbconvert_exporter": "python",
   "pygments_lexer": "ipython3",
   "version": "3.9.13"
  }
 },
 "nbformat": 4,
 "nbformat_minor": 5
}
